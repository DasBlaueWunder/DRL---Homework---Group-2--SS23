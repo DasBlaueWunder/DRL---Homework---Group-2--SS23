{
 "cells": [
  {
   "attachments": {},
   "cell_type": "markdown",
   "metadata": {},
   "source": [
    "# Results"
   ]
  },
  {
   "attachments": {},
   "cell_type": "markdown",
   "metadata": {},
   "source": [
    "### 1-Step SARSA\n",
    "\n",
    "Decaying epsilon, 1000 iterations            |  Epsilon = 0.01, 1000 iterations\n",
    ":-------------------------:|:-------------------------:\n",
    "![fig1](./figures/1sarsa-ep1-1000it.png) | ![fig2](./figures/1sarsa-ep0,01-1000it.png)"
   ]
  },
  {
   "attachments": {},
   "cell_type": "markdown",
   "metadata": {},
   "source": [
    "### MC Control\n",
    "\n",
    "Epsilon = 0.01, Gamma = 0.8, 5000 iterations |  \n",
    ":-------------------------:|\n",
    "![fig3](./figures/mccontrol-ep0,01-g0,8-5000it.png) |"
   ]
  },
  {
   "attachments": {},
   "cell_type": "markdown",
   "metadata": {},
   "source": [
    "### Task 2\n",
    "The task asks for models, where the return is about half of the maximum return. These \"half-trained\" models were chosen:\n",
    "SARSA: Epsilon = 0.01, 10 iterations  |  MC Control: Epsilon = 0.01, Gamma = 0.8, 100 iterations |\n",
    ":-------------------------:|:-------------------------:\n",
    "![fig1](./figures/1sarsa-ep0,01-10it.png) | ![fig1](./figures/mccontrol-ep0,01-g0,8-100it.png)"
   ]
  },
  {
   "attachments": {},
   "cell_type": "markdown",
   "metadata": {},
   "source": [
    "Result of the further Analysis:\n",
    "\n",
    "![fig1](./figures/mean_std-over-episodes.png) "
   ]
  },
  {
   "attachments": {},
   "cell_type": "markdown",
   "metadata": {},
   "source": []
  }
 ],
 "metadata": {
  "language_info": {
   "name": "python"
  },
  "orig_nbformat": 4
 },
 "nbformat": 4,
 "nbformat_minor": 2
}
