{
 "cells": [
  {
   "attachments": {},
   "cell_type": "markdown",
   "metadata": {},
   "source": [
    "### LunarLander-v5\n",
    "\n",
    "#### Solution 1:\n",
    "\n",
    "Model taken after 1.5 million steps. Scores above 200 (solves the environment) reasonably consistent.\n",
    "\n",
    "| Hyperparameter | $\\gamma$  | $\\alpha$  | $\\tau$ |erp size  | erp prefill  | batch size | train frequency | $\\epsilon$                   | hidden layer units |\n",
    "|----------------|---        |---        | ---    | ---      |---           | ---        | ---             | ---                          | ---                |\n",
    "| Value          |  0.99     | 0.0005    | 0.001  |20,000    | 5,000        | 1          | 4               | $max(0.01, 0.99999^{steps})$ | 64, 64             |\n",
    "\n",
    "<br/><br/>\n",
    "\n",
    "Average reward / Step (unsmoothed)| Loss / Step\n",
    ":-------------------------:|:-------------------------:\n",
    "![solution1_reward](plots/lunarlander-v5_solution1_reward_no_smoothing.png) | ![solution1_loss](plots/lunarlander-v5_solution1_loss.png)\n",
    "\n",
    "Smoothed reward / Step | Example episode ($\\epsilon = 0$, reward = 269.5)\n",
    ":-------------------------:|:-------------------------:\n",
    "<img src=\"plots/lunarlander-v5_solution1_reward_0.8.png\" width=\"763\" height=\"385\"> | <img src=\"plots/lunarlander-v5_solution1_269.5.gif\" width=\"602\" height=\"432\">\n",
    "\n",
    "<br/><br/>\n",
    "\n",
    "#### Solution 2:\n",
    "\n",
    "Model taken after 2.1 million steps. Scores above 200 consistently (average across episodes >215). Maximum score I have seen is 301.4.\n",
    "\n",
    "| Hyperparameter | $\\gamma$  | $\\alpha$  | $\\tau$ |erp size  | erp prefill  | batch size | train frequency | $\\epsilon$                   | hidden layer units |\n",
    "|----------------|---        |---        | ---    | ---      |---           | ---        | ---             | ---                          | ---                |\n",
    "| Value          |  0.99     | 0.0005    | 0.001  |20,000    | 5,000        | 1          | 4               | $max(0.01, 0.99999^{steps})$ | 128, 128           |\n",
    "\n",
    "<br/><br/>\n",
    "\n",
    "Average reward / Step (unsmoothed)| Loss / Step\n",
    ":-------------------------:|:-------------------------:\n",
    "![solution2_reward](plots/lunarlander-v5_solution2_reward_no_smoothing.png) | ![solution1_loss](plots/lunarlander-v5_solution2_loss.png)\n",
    "\n",
    "Smoothed reward / Step | Example episode ($\\epsilon = 0$, reward = 273)\n",
    ":-------------------------:|:-------------------------:\n",
    "<img src=\"plots/lunarlander-v5_solution2_reward_0.8.png\" width=\"763\" height=\"385\"> | <img src=\"plots/lunarlander-v5_solution2_273.gif\" width=\"602\" height=\"432\">"
   ]
  },
  {
   "attachments": {},
   "cell_type": "markdown",
   "metadata": {},
   "source": []
  }
 ],
 "metadata": {
  "kernelspec": {
   "display_name": "drl",
   "language": "python",
   "name": "python3"
  },
  "language_info": {
   "codemirror_mode": {
    "name": "ipython",
    "version": 3
   },
   "file_extension": ".py",
   "mimetype": "text/x-python",
   "name": "python",
   "nbconvert_exporter": "python",
   "pygments_lexer": "ipython3",
   "version": "3.11.3"
  },
  "orig_nbformat": 4
 },
 "nbformat": 4,
 "nbformat_minor": 2
}
