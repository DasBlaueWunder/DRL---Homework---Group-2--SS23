{
 "cells": [
  {
   "attachments": {},
   "cell_type": "markdown",
   "metadata": {},
   "source": [
    "### Cartpole-v1\n",
    "\n",
    "#### Solution 1:\n",
    "\n",
    "Both the model at ~1.92 million iterations and the last model at ~2.58 million iterations score consistently above 200, and thus solve the environment. The second one even scores above 300. Training was done on my CPU, and took <15 minutes at ~3.000it/s.\n",
    "\n",
    "Loss / Iteration | Average Reward / Iteration  \n",
    ":-------------------------:|:-------------------------:\n",
    "![solution0_loss](plots/cartpole-v1_solution0_loss.png) | ![solution0_reward](plots/cartpole-v1_solution0_reward.png)\n",
    "\n",
    "(Both plots were smoothed with exponential moving average, $\\alpha = 0.25$)  \n",
    "\n",
    "Hyperparameters:\n",
    "- Learning Rate = 0.001\n",
    "- $\\gamma$ = 0.99\n",
    "- Replay Buffer Size = 20,000\n",
    "- Target Network Update Frequency = 500 iterations\n",
    "- Train Frequency = 100 iterations\n",
    "- Batch Size = 750\n",
    "- $\\epsilon = max(0.01, 0.999995^{iterations})$  \n",
    "\n",
    "Epsilon / Iteration |  \n",
    ":-------------------------:|\n",
    "<img src=\"plots/cartpole-v1_solution0_eps0.999995.png\" width=\"900\" height=\"600\"> |\n",
    "\n",
    "4 episodes of the model at ~2.58 million iterations which I recorded:\n",
    "\n",
    "Episode reward: 347 | Episode reward: 367 \n",
    ":-------------------------:|:-------------------------:\n",
    "![solution1_gif1](plots/cartpole-v1_solution1_347.gif) | ![solution1_gif2](plots/cartpole-v1_solution1_367.gif)\n",
    "Episode reward: 398 | Episode reward: 450\n",
    "![solution1_gif3](plots/cartpole-v1_solution1_398.gif) | ![solution1_gif4](plots/cartpole-v1_solution1_450.gif)\n"
   ]
  },
  {
   "attachments": {},
   "cell_type": "markdown",
   "metadata": {},
   "source": []
  }
 ],
 "metadata": {
  "kernelspec": {
   "display_name": "drl",
   "language": "python",
   "name": "python3"
  },
  "language_info": {
   "codemirror_mode": {
    "name": "ipython",
    "version": 3
   },
   "file_extension": ".py",
   "mimetype": "text/x-python",
   "name": "python",
   "nbconvert_exporter": "python",
   "pygments_lexer": "ipython3",
   "version": "3.11.3"
  },
  "orig_nbformat": 4
 },
 "nbformat": 4,
 "nbformat_minor": 2
}
